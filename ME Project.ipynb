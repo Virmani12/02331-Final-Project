{
 "cells": [
  {
   "cell_type": "code",
   "execution_count": 2,
   "id": "1a59016b",
   "metadata": {},
   "outputs": [],
   "source": [
    "import numpy as np\n",
    "import matplotlib.pyplot as plt"
   ]
  },
  {
   "cell_type": "code",
   "execution_count": null,
   "id": "28001296",
   "metadata": {},
   "outputs": [],
   "source": [
    "# Variables, parameters, initializations\n",
    "Ne = (N-1)/((N-1)/R) = R"
   ]
  },
  {
   "cell_type": "code",
   "execution_count": null,
   "id": "6d5153dc",
   "metadata": {},
   "outputs": [],
   "source": [
    "num_simulations = 1000\n",
    "N = 1000\n",
    "num_gens = 300\n",
    "pop_a\n",
    "pop_b\n",
    "pop_a_size = N\n",
    "pop_b_size = N\n",
    "pop_a_variants\n",
    "pop_b_variants"
   ]
  },
  {
   "cell_type": "code",
   "execution_count": null,
   "id": "d1dd9063",
   "metadata": {},
   "outputs": [],
   "source": [
    "def Main():\n",
    "    for i in range proportion of role models:\n",
    "        for j in range of innovation rates and each theta:\n",
    "            for n in range (num_simulations):\n",
    "                RunSimulation()"
   ]
  },
  {
   "cell_type": "code",
   "execution_count": null,
   "id": "ed786872",
   "metadata": {},
   "outputs": [],
   "source": [
    "def RunSimulation():\n",
    "    RunBurnIn()\n",
    "    for gen in range num_gens():\n",
    "        RunGeneration()\n",
    "    "
   ]
  },
  {
   "cell_type": "code",
   "execution_count": null,
   "id": "9b808b06",
   "metadata": {},
   "outputs": [],
   "source": [
    "def RunBurnIn():\n",
    "    initialize pop a and pop b sizes and variants distribution\n",
    "    sdi_a = CalcSimpsonsIndex(pop_a)\n",
    "    sdi_b = CalcSimposonsIndex(pop_b)\n",
    "    while sdi_a > sdi_b:\n",
    "        perform cultural transmission\n",
    "        do innovation\n",
    "        keep track of new cultural variants per pop\n",
    "        update pop_a and pop_b\n",
    "        CalcSimpsonsIndex(pop_a)\n",
    "        CalcSimpsonsIndex(pop_b)\n",
    "    store and return 2d lists for Ne, SDI, unique num variants..."
   ]
  },
  {
   "cell_type": "code",
   "execution_count": null,
   "id": "45e9eced",
   "metadata": {},
   "outputs": [],
   "source": [
    "def RunGeneration():\n",
    "    cultural_trans_a = CalcCulturalTransmission(pop_a)\n",
    "    cultural_trans_b = CalcCulturalTransmission(pop_b)\n",
    "    Assign new variants to pop\n",
    "    Calc k_is from new variants\n",
    "    Calc Nes, SDI, number of unique variants\n",
    "    Undergo Innovation\n",
    "    Keep track of new total number of unique variants after innovators added\n",
    "    Store Nes, SDI, num unique traits before innovation, and parameters (prop of role models, theta, gen num)"
   ]
  },
  {
   "cell_type": "code",
   "execution_count": null,
   "id": "ebcb3965",
   "metadata": {},
   "outputs": [],
   "source": [
    "def CalcSimpsonsIndex(unique_variants_list, N):\n",
    "    simpsons_sum = 0\n",
    "    for i in range unique_variants_list:\n",
    "        simpsons_sum += ((unique_variants_list[i] / N) ** 2)\n",
    "    simpsons_index = 1 - simpsons_sum\n",
    "    return simpsons_index"
   ]
  },
  {
   "cell_type": "code",
   "execution_count": null,
   "id": "0478417c",
   "metadata": {},
   "outputs": [],
   "source": [
    "def CalcNumUniqueVariants():"
   ]
  },
  {
   "cell_type": "code",
   "execution_count": null,
   "id": "e0a668e2",
   "metadata": {},
   "outputs": [],
   "source": [
    "def CalcEffectivePop():"
   ]
  },
  {
   "cell_type": "code",
   "execution_count": null,
   "id": "8bb64ba8",
   "metadata": {},
   "outputs": [],
   "source": [
    "def CalcCulturalTransmission():"
   ]
  },
  {
   "cell_type": "code",
   "execution_count": null,
   "id": "9ef9467d",
   "metadata": {},
   "outputs": [],
   "source": [
    "def PerformInnovation():"
   ]
  }
 ],
 "metadata": {
  "kernelspec": {
   "display_name": "Python 3 (ipykernel)",
   "language": "python",
   "name": "python3"
  },
  "language_info": {
   "codemirror_mode": {
    "name": "ipython",
    "version": 3
   },
   "file_extension": ".py",
   "mimetype": "text/x-python",
   "name": "python",
   "nbconvert_exporter": "python",
   "pygments_lexer": "ipython3",
   "version": "3.8.5"
  }
 },
 "nbformat": 4,
 "nbformat_minor": 5
}
