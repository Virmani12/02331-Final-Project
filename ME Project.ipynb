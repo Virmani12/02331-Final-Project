{
 "cells": [
  {
   "cell_type": "code",
   "execution_count": 2,
   "id": "9741df56",
   "metadata": {},
   "outputs": [],
   "source": [
    "import numpy as np\n",
    "import matplotlib.pyplot as plt"
   ]
  },
  {
   "cell_type": "code",
   "execution_count": 5,
   "id": "de36eba7",
   "metadata": {},
   "outputs": [
    {
     "data": {
      "text/plain": [
       "array([[0., 0., 0.],\n",
       "       [0., 0., 0.],\n",
       "       [0., 0., 0.],\n",
       "       [0., 0., 0.]])"
      ]
     },
     "execution_count": 5,
     "metadata": {},
     "output_type": "execute_result"
    }
   ],
   "source": [
    "np.zeros((4,3))"
   ]
  },
  {
   "cell_type": "code",
   "execution_count": 37,
   "id": "4613488e",
   "metadata": {},
   "outputs": [],
   "source": [
    "# Variables, parameters, initializations\n",
    "num_simulations = 1000\n",
    "N = 1000 # true population size\n",
    "num_gens = 300\n",
    "num_pops = 2 # pop A and pop B\n",
    "\n",
    "# Store 2-D lists for the Ne, SDI, and number of unique variants for each population PER generation\n",
    "ne_mtx = np.zeros((num_gens, num_pops))\n",
    "sdi_mtx = np.zeros((num_gens, num_pops))\n",
    "unique_vars = np.zeros((num_gens, num_pops))\n",
    "\n",
    "mu = 10 ** -3 # innovation rate\n",
    "theta = 1\n",
    "role_model_prop = 0.5\n",
    "\n",
    "\n"
   ]
  },
  {
   "cell_type": "code",
   "execution_count": null,
   "id": "b06cc598",
   "metadata": {},
   "outputs": [],
   "source": [
    "def Main():\n",
    "    for i in range proportion of role models:\n",
    "        for j in range of innovation rates and each theta:\n",
    "            for n in range (num_simulations):\n",
    "                RunSimulation()"
   ]
  },
  {
   "cell_type": "code",
   "execution_count": null,
   "id": "f2547729",
   "metadata": {},
   "outputs": [],
   "source": [
    "def RunSimulation():\n",
    "    RunBurnIn()\n",
    "    for gen in range num_gens():\n",
    "        RunGeneration()\n",
    "    "
   ]
  },
  {
   "cell_type": "code",
   "execution_count": null,
   "id": "6d80b441",
   "metadata": {},
   "outputs": [],
   "source": [
    "def RunBurnIn():\n",
    "    initialize pop a and pop b sizes and variants distribution\n",
    "    sdi_a = CalcSimpsonsIndex(pop_a)\n",
    "    sdi_b = CalcSimposonsIndex(pop_b)\n",
    "    while sdi_a > sdi_b:\n",
    "        perform cultural transmission\n",
    "        do innovation\n",
    "        keep track of new cultural variants per pop\n",
    "        update pop_a and pop_b\n",
    "        CalcSimpsonsIndex(pop_a)\n",
    "        CalcSimpsonsIndex(pop_b)\n",
    "    store and return 2d lists for Ne, SDI, unique num variants..."
   ]
  },
  {
   "cell_type": "code",
   "execution_count": null,
   "id": "6d4aeaa9",
   "metadata": {},
   "outputs": [],
   "source": [
    "def RunGeneration():\n",
    "    cultural_trans_a = CalcCulturalTransmission(pop_a)\n",
    "    cultural_trans_b = CalcCulturalTransmission(pop_b)\n",
    "    Assign new variants to pop\n",
    "    Calc k_is from new variants\n",
    "    Calc Nes, SDI, number of unique variants\n",
    "    Undergo Innovation\n",
    "    Keep track of new total number of unique variants after innovators added\n",
    "    Store Nes, SDI, num unique traits before innovation, and parameters (prop of role models, theta, gen num)"
   ]
  },
  {
   "cell_type": "code",
   "execution_count": null,
   "id": "53a66ec9",
   "metadata": {},
   "outputs": [],
   "source": [
    "def CalcSimpsonsIndex(unique_variants_list, N):\n",
    "    simpsons_sum = 0\n",
    "    for i in range unique_variants_list:\n",
    "        simpsons_sum += ((unique_variants_list[i] / N) ** 2)\n",
    "    simpsons_index = 1 - simpsons_sum\n",
    "    return simpsons_index"
   ]
  },
  {
   "cell_type": "code",
   "execution_count": null,
   "id": "a3d62abf",
   "metadata": {},
   "outputs": [],
   "source": [
    "def CalcNumUniqueVariants():"
   ]
  },
  {
   "cell_type": "code",
   "execution_count": null,
   "id": "378e8183",
   "metadata": {},
   "outputs": [],
   "source": [
    "def CalcEffectivePop(N, variance):\n",
    "    return (N-1)/variance"
   ]
  },
  {
   "cell_type": "code",
   "execution_count": null,
   "id": "389ac597",
   "metadata": {},
   "outputs": [],
   "source": [
    "def CalcCulturalTransmission():"
   ]
  },
  {
   "cell_type": "code",
   "execution_count": null,
   "id": "8a72365c",
   "metadata": {},
   "outputs": [],
   "source": [
    "def PerformCulturalTransmission(pop_a, pop_b):\n",
    "    randomly introduce new variants for pop_a and pop_b"
   ]
  },
  {
   "cell_type": "code",
   "execution_count": null,
   "id": "0b1973ab",
   "metadata": {},
   "outputs": [],
   "source": [
    "def PerformInnovation(N, mu):\n",
    "    np.random.binomial(N, mu)"
   ]
  },
  {
   "cell_type": "code",
   "execution_count": 36,
   "id": "dd358a5d",
   "metadata": {},
   "outputs": [
    {
     "data": {
      "text/plain": [
       "0"
      ]
     },
     "execution_count": 36,
     "metadata": {},
     "output_type": "execute_result"
    }
   ],
   "source": [
    "np.random.binomial(N, mu)"
   ]
  }
 ],
 "metadata": {
  "kernelspec": {
   "display_name": "Python 3 (ipykernel)",
   "language": "python",
   "name": "python3"
  },
  "language_info": {
   "codemirror_mode": {
    "name": "ipython",
    "version": 3
   },
   "file_extension": ".py",
   "mimetype": "text/x-python",
   "name": "python",
   "nbconvert_exporter": "python",
   "pygments_lexer": "ipython3",
   "version": "3.8.5"
  }
 },
 "nbformat": 4,
 "nbformat_minor": 5
}
