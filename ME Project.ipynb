{
 "cells": [
  {
   "cell_type": "code",
   "execution_count": 1,
   "id": "9741df56",
   "metadata": {},
   "outputs": [],
   "source": [
    "import numpy as np\n",
    "import random\n",
    "import matplotlib.pyplot as plt"
   ]
  },
  {
   "cell_type": "code",
   "execution_count": 2,
   "id": "de36eba7",
   "metadata": {},
   "outputs": [
    {
     "data": {
      "text/plain": [
       "array([[0., 0., 0.],\n",
       "       [0., 0., 0.],\n",
       "       [0., 0., 0.],\n",
       "       [0., 0., 0.]])"
      ]
     },
     "execution_count": 2,
     "metadata": {},
     "output_type": "execute_result"
    }
   ],
   "source": [
    "np.zeros((4,3))"
   ]
  },
  {
   "cell_type": "code",
   "execution_count": 3,
   "id": "4613488e",
   "metadata": {},
   "outputs": [],
   "source": [
    "# Variables, parameters, initializations\n",
    "num_simulations = 1000\n",
    "N = 1000 # true population size\n",
    "num_gens = 300\n",
    "num_pops = 2 # pop A and pop B\n",
    "mu = [10**-1, 10**-2, 10**-3, 10**-4]\n",
    "role_models_otm = 0.1\n",
    "role_models_freqDep=1\n",
    "theta_otm = 1\n",
    "theta_freqDep = [0.5,1.0,1.5]\n",
    "\n",
    "# Store 2-D lists for the Ne, SDI, and number of unique variants for each population PER generation\n",
    "ne_mtx = np.zeros((num_gens, num_pops))\n",
    "sdi_mtx = np.zeros((num_gens, num_pops))\n",
    "unique_vars = np.zeros((num_gens, num_pops))\n",
    "\n",
    "mu = 10 ** -3 # innovation rate\n",
    "theta = 1\n",
    "role_model_prop = 0.5\n",
    "\n",
    "\n"
   ]
  },
  {
   "cell_type": "code",
   "execution_count": 4,
   "id": "b06cc598",
   "metadata": {},
   "outputs": [],
   "source": [
    "def ChooseModel(role_models, mu, theta, num_sims,num_gens,N,model):\n",
    "    \n",
    "    #running simulations based on model type\n",
    "    if model == \"OTM\":\n",
    "        \n",
    "        #list to keep track of results for each innovation rate\n",
    "        per_mu = []\n",
    "        for i in mu:\n",
    "            \n",
    "            #for OTM, theta = 1, loop on each 0.1 proportion of role models from 0.1->1\n",
    "            while (role_models*N) <= N:\n",
    "                \n",
    "                #list to keep track of results at each role model ratio\n",
    "                per_rm = []\n",
    "                \n",
    "                #initialize ne,sdi,vars arrays per population, per generation\n",
    "                final_ne = np.zeros([num_gens,num_pops])\n",
    "                final_sdi = np.zeros([num_gens,num_pops])\n",
    "                final_vars = np.zeros([num_gens, num_pops])\n",
    "                \n",
    "                #for each simulation, get the resulting ne,sdi,vars and add it to final arrays\n",
    "                for n in range(num_sims):\n",
    "                    sim_ne, sim_sdi, sim_vars = RunSimulation(num_gens,N,num_pops,role_models,i,theta)\n",
    "                    final_ne += sim_ne\n",
    "                    final_sdi += sim_sdi\n",
    "                    final_vars += sim_vars\n",
    "                    \n",
    "                #average out each array by the number of simulations to get mean values per gen\n",
    "                final_ne = final_ne/num_sims\n",
    "                final_sdi = final_sdi/num_sims\n",
    "                final_vars = final_vars/num_sims\n",
    "                \n",
    "                #append a list of all three arrays in the role model list\n",
    "                #to get the values at this current role model rate\n",
    "                per_rm.append([final_ne,final_sdi,final_vars])\n",
    "            \n",
    "            #finally, append the \"per role model rate\" list into the list for each mu value\n",
    "            per_mu.append(per_rm)\n",
    "        \n",
    "        #return this list for figure creation\n",
    "        #contains the final,averaged arrays for ne,sdi,vars across all gens\n",
    "        #across role model proportions\n",
    "        return per_mu\n",
    "    \n",
    "    \n",
    "    else:\n",
    "        #for frequency dependent model,\n",
    "        #role_models = 1 because the whole population can transmit cultural information\n",
    "        #looping the same way as the previous except iterating per theta value instead\n",
    "        #of role models\n",
    "        per_mu = []\n",
    "        for i in mu:\n",
    "            #keep track of results for each value of theta\n",
    "            per_theta = []\n",
    "            for t in theta:\n",
    "                for n in range(num_sims):\n",
    "                    sim_ne,sim_sdi,sim_vars = RunSimulation(num_gens,N,role_models,i,theta)\n",
    "                    final_ne += sim_ne\n",
    "                    final_sdi += sim_sdi\n",
    "                    final_vars += sim_vars\n",
    "                    \n",
    "                #same pattern of averaging across generations per sim\n",
    "                final_ne = final_ne/num_sims\n",
    "                final_sdi = final_sdi/num_sims\n",
    "                final_vars = final_vars/num_sims\n",
    "                \n",
    "                #only need final_ne for figures for frequency dependent\n",
    "                per_theta.append(final_ne)\n",
    "            \n",
    "            #append each theta result into per_mu array\n",
    "            per_mu.append(per_theta)\n",
    "        \n",
    "        #return this list for figure 3 creation\n",
    "        #contains the final, averaged array for Ne across all gens\n",
    "        #for each combination of theta and mu\n",
    "        return per_mu\n",
    "                "
   ]
  },
  {
   "cell_type": "code",
   "execution_count": 5,
   "id": "f2547729",
   "metadata": {},
   "outputs": [],
   "source": [
    "def RunSimulation(num_gens, pop_size, role_models, mu, theta):\n",
    "    #set up each population as an array of N members\n",
    "    pop = np.zeros(2,pop_size)\n",
    "    \n",
    "    #keep track of the max number of cultural variants\n",
    "    max_vars = []\n",
    "    \n",
    "    pop, max_vars, sdi_a, sdi_b, tmp_pop = RunBurnIn(pop, pop_size, max_vars, mu)\n",
    "    \n",
    "    #set up 2-D arrays for Ne, SDI, and number of unique variants for each pop\n",
    "    #PER generation\n",
    "    ne = np.zeros(num_gens, 2)\n",
    "    sdi = np.zeros(num_gens,2)\n",
    "    unique_vars = np.zeros(num_gens,2)\n",
    "    \n",
    "    #Calculate initial values for ne,sdi,vars after burn-in\n",
    "    #first, ne...calculate the number of times each variant shows up\n",
    "    #in the population, and set that as the number of offspring for \n",
    "    #that variant. Ne = (popsize -1) / variance of offspring produced\n",
    "    #per variant\n",
    "    numOffspring = []\n",
    "    for pop in range(2):\n",
    "        popOffspring= np.zeros(pop_size)\n",
    "        for i in range(pop_size):\n",
    "            popOffspring.append(np.count_nonzero(tmp_pop[0]==i))\n",
    "        numOffspring.append(popOffspring)\n",
    "    \n",
    "    ne[0,0] = (pop_size-1) /(np.var(numOffspring[0]))\n",
    "    ne[0,1] = (pop_size-1) /(np.var(numOffspring[1]))\n",
    "    \n",
    "    #next, sdi:\n",
    "    sdi[0,0] = SDI(pop[0])\n",
    "    sdi[0,1] = SDI(pop[1])\n",
    "    \n",
    "    #lastly, number of unique variants\n",
    "    unique_vars[0,0] = np.unique(pop[0])\n",
    "    unique_vars[0,1] = np.unique(pop[1])\n",
    "    \n",
    "    for gen in range(1, num_gens):\n",
    "        cur_ne, cur_sdi, cur_vars, pop = RunGeneration(pop, pop_size, theta, role_models)\n",
    "        ne[i,0] = cur_ne[0]\n",
    "        ne[i,1] = cur_ne[1]\n",
    "        \n",
    "        sdi[i,0] = cur_sdi[0]\n",
    "        sdi[i,1] = cur_sdi[1]\n",
    "        \n",
    "        unique_vars[i,0] = cur_vars[0]\n",
    "        unique_vars[i,1] = cur_vars[1]\n",
    "        \n",
    "        max_vars[0] = pop[0].max()\n",
    "        max_vars[1] = pop[1].max()\n",
    "    return ne,sdi,unique_vars\n",
    "    "
   ]
  },
  {
   "cell_type": "code",
   "execution_count": 9,
   "id": "6d80b441",
   "metadata": {},
   "outputs": [],
   "source": [
    "def RunBurnIn(pop, pop_size, max_vars, mu):\n",
    "    \n",
    "    pop[0] = np.array(random.sample(list(range(pop_size)), pop_size))\n",
    "    pop[1] = np.array([1]*pop_size)\n",
    "    max_vars[0] = pop_size\n",
    "    max_vars[1] = 1\n",
    "    \n",
    "    sdi_a = SDI(pop[0])\n",
    "    sdi_b = SDI(pop[1])\n",
    "    tmp_pop = np.zeros(2,pop_size)\n",
    "    \n",
    "    while sdi_a > sdi_b:\n",
    "        tmp_pop = np.zeros(2,pop_size)\n",
    "        \n",
    "        for i in range(2):\n",
    "            #perform cultural transmission\n",
    "            tmp_pop[i] = np.array(random.choice(pop_size, pop_size))\n",
    "            pop[i] = pop[i, tmp_pop[i]]\n",
    "            \n",
    "            #undergo innovation\n",
    "            new_innovators = np.random.binomial(1, mu, pop_size)\n",
    "            pop[a,np.where(new_innovators==1)] = np.arange(max_vars[i]+1,max_vars[i]+len(np.where(new_innovators ==1))+1)\n",
    "            max_vars[i] = pop[i].max()\n",
    "            \n",
    "        sdi_a = SDI(pop[0])\n",
    "        sdi_b = SDI(pop[1])\n",
    "    \n",
    "    return pop, max_vars, sdi_a, sdi_b, tmp_pop"
   ]
  },
  {
   "cell_type": "code",
   "execution_count": 12,
   "id": "6d4aeaa9",
   "metadata": {},
   "outputs": [],
   "source": [
    "def RunGeneration(pop, pop_size,theta, role_models):\n",
    "    ne = np.zeros(2)\n",
    "    sdi = np.zeros(2)\n",
    "    unique_vars = np.zeros(2)\n",
    "    for i in range(2):\n",
    "        #set of potential people to transmit new vars (only from role models)\n",
    "        #If FreqDep, then each person has the potential of transmitting a variant\n",
    "        new_vars = np.random.choice(pop_size,role_models*pop_size, replace=False)\n",
    "        \n",
    "        #getting the actual variants they have from the population\n",
    "        variants = np.unique(pop[i,new_vars])\n",
    "        \n",
    "        #getting variant frequencies\n",
    "        var_freq = np.zeros(len(variants))\n",
    "        for j in range(len(variants)):\n",
    "            var_freq[j] = len(np.where(pop[i,new_vars]== variants[j]))\n",
    "        \n",
    "        #getting the probability of individuals choosing each variant\n",
    "        probs = np.power(var_freq,theta) / sum(np.power(var_freq,theta))\n",
    "        probs_individual = probs/var_freq\n",
    "        \n",
    "        #assigning weights\n",
    "        weights = np.zeros(len(new_vars))\n",
    "        for v in range(len(new_vars)):\n",
    "            weights[v] = probs_individual[np.where(variants == pop[i,new_vars[v]])]\n",
    "        \n",
    "        #getting new set of culturally transmitted individuals\n",
    "        tmp = np.random.choice(new_vars, pop_size, replace=True, p=weights)\n",
    "        \n",
    "        pop[i] = pop[i,tmp]\n",
    "        \n",
    "        #computing ne, sdi, unique vars\n",
    "        offspring = np.zeros(pop_size)\n",
    "        for p in range(pop_size):\n",
    "            offspring[p] = (len(np.where(tmp == p)))\n",
    "        ne[i] = (pop_size-1) / np.var(offspring)\n",
    "        \n",
    "        sdi[i] = SDI(pop[i])\n",
    "        \n",
    "        unique_vars[i] = np.unique(pop[i])\n",
    "        \n",
    "        #add innovators\n",
    "        new_innovators = np.random.binomial(1, mu, pop_size)\n",
    "        pop[a,np.where(new_innovators==1)] = np.arange(max_vars[i]+1,max_vars[i]+len(np.where(new_innovators ==1))+1)\n",
    "        \n",
    "    return ne,sdi,unique_vars,pop"
   ]
  },
  {
   "cell_type": "code",
   "execution_count": 13,
   "id": "e5c8fb28",
   "metadata": {},
   "outputs": [],
   "source": [
    "#####Finished up to here...\n",
    "\n",
    "##### I re-arranged it so we weren't calling functions for calculations\n",
    "##### like \"calculating cultural transmission\" or \"performing innovation\"\n",
    "##### but feel free to change this if the code is too clunky without it\n",
    "\n",
    "##### functions remaining: SDI()\n",
    "\n",
    "##### Other things remaining: code to actually call 'ChooseModel',\n",
    "##### figure creation"
   ]
  },
  {
   "cell_type": "code",
   "execution_count": null,
   "id": "53a66ec9",
   "metadata": {},
   "outputs": [],
   "source": [
    "def SDI(unique_variants_list, N):\n",
    "    simpsons_sum = 0\n",
    "    for i in range unique_variants_list:\n",
    "        simpsons_sum += ((unique_variants_list[i] / N) ** 2)\n",
    "    simpsons_index = 1 - simpsons_sum\n",
    "    return simpsons_index"
   ]
  },
  {
   "cell_type": "code",
   "execution_count": null,
   "id": "a3d62abf",
   "metadata": {},
   "outputs": [],
   "source": [
    "def CalcNumUniqueVariants():"
   ]
  },
  {
   "cell_type": "code",
   "execution_count": null,
   "id": "378e8183",
   "metadata": {},
   "outputs": [],
   "source": [
    "def CalcEffectivePop(N, variance):\n",
    "    return (N-1)/variance"
   ]
  },
  {
   "cell_type": "code",
   "execution_count": null,
   "id": "389ac597",
   "metadata": {},
   "outputs": [],
   "source": [
    "def CalcCulturalTransmission():"
   ]
  },
  {
   "cell_type": "code",
   "execution_count": null,
   "id": "8a72365c",
   "metadata": {},
   "outputs": [],
   "source": [
    "def PerformCulturalTransmission(pop_a, pop_b):\n",
    "    randomly introduce new variants for pop_a and pop_b"
   ]
  },
  {
   "cell_type": "code",
   "execution_count": null,
   "id": "0b1973ab",
   "metadata": {},
   "outputs": [],
   "source": [
    "def PerformInnovation(N, mu):\n",
    "    np.random.binomial(N, mu)"
   ]
  },
  {
   "cell_type": "code",
   "execution_count": 4,
   "id": "dd358a5d",
   "metadata": {},
   "outputs": [
    {
     "data": {
      "text/plain": [
       "4"
      ]
     },
     "execution_count": 4,
     "metadata": {},
     "output_type": "execute_result"
    }
   ],
   "source": [
    "np.random.binomial(10, 0.5)"
   ]
  },
  {
   "cell_type": "code",
   "execution_count": null,
   "id": "400cbd52",
   "metadata": {},
   "outputs": [],
   "source": []
  }
 ],
 "metadata": {
  "kernelspec": {
   "display_name": "Python 3 (ipykernel)",
   "language": "python",
   "name": "python3"
  },
  "language_info": {
   "codemirror_mode": {
    "name": "ipython",
    "version": 3
   },
   "file_extension": ".py",
   "mimetype": "text/x-python",
   "name": "python",
   "nbconvert_exporter": "python",
   "pygments_lexer": "ipython3",
   "version": "3.9.12"
  }
 },
 "nbformat": 4,
 "nbformat_minor": 5
}
